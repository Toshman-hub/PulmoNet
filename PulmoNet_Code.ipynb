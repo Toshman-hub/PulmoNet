{
  "nbformat": 4,
  "nbformat_minor": 0,
  "metadata": {
    "colab": {
      "provenance": [],
      "authorship_tag": "ABX9TyM8WlrJvGef1T/ru8jFAzH8",
      "include_colab_link": true
    },
    "kernelspec": {
      "name": "python3",
      "display_name": "Python 3"
    },
    "language_info": {
      "name": "python"
    }
  },
  "cells": [
    {
      "cell_type": "markdown",
      "metadata": {
        "id": "view-in-github",
        "colab_type": "text"
      },
      "source": [
        "<a href=\"https://colab.research.google.com/github/Toshman-hub/PulmoNet/blob/main/PulmoNet_Code.ipynb\" target=\"_parent\"><img src=\"https://colab.research.google.com/assets/colab-badge.svg\" alt=\"Open In Colab\"/></a>"
      ]
    },
    {
      "cell_type": "code",
      "execution_count": null,
      "metadata": {
        "id": "TXJ4h5cry5M6"
      },
      "outputs": [],
      "source": [
        "import tensorflow as tf\n",
        "from tensorflow.keras import layers, models, optimizers\n",
        "from sklearn.model_selection import StratifiedKFold\n",
        "from sklearn.metrics import accuracy_score, precision_score, recall_score, f1_score\n",
        "import numpy as np\n",
        "\n",
        "# Loading and preprocessing our dataset\n",
        "train_datagen = ImageDataGenerator(\n",
        "        rescale=1./255,\n",
        "        shear_range=0.2,\n",
        "        zoom_range=0.2,\n",
        "        horizontal_flip=True)\n",
        "# loading training data\n",
        "X_train = train_datagen.flow_from_directory(\n",
        "        'dataset/training_set',\n",
        "        target_size=(64, 64),\n",
        "        batch_size=32,\n",
        "        class_mode='categorical_crossentropy')\n",
        "\n",
        "# loading testing data\n",
        "test_datagen = ImageDataGenerator(rescale=1./255)\n",
        "y_train = train_datagen.flow_from_directory(\n",
        "       'dataset/test_set',\n",
        "        target_size=(64, 64),\n",
        "        batch_size=32,\n",
        "        class_mode='categorical_crossentropy')\n",
        "\n",
        "\n",
        "# hyperparameters Defination\n",
        "input_shape = (64, 64, 1)\n",
        "num_classes = 4\n",
        "learning_rate = 0.001\n",
        "batch_size = 32\n",
        "epochs = 10\n",
        "\n",
        "# Defining the WRN architecture\n",
        "def wide_residual_network(input_shape, num_classes, depth, width, dropout_rate):\n",
        "    model = models.Sequential()\n",
        "\n",
        "    model.add(layers.Conv2D(width, (3, 3), padding='same', input_shape=input_shape))\n",
        "    model.add(layers.Activation('relu'))\n",
        "\n",
        "    for _ in range(depth - 1):\n",
        "        model.add(layers.Conv2D(width, (3, 3), padding='same'))\n",
        "        model.add(layers.Activation('relu'))\n",
        "        model.add(layers.Dropout(dropout_rate))\n",
        "\n",
        "    model.add(layers.MaxPooling2D(pool_size=(2, 2)))\n",
        "    model.add(layers.Flatten())\n",
        "    model.add(layers.Dense(num_classes, activation='softmax'))\n",
        "\n",
        "    return model\n",
        "\n",
        "# Definining our model\n",
        "model = wide_residual_network(input_shape, num_classes, depth=4, width=64, dropout_rate=0.3)\n",
        "optimizer = optimizers.Adam(learning_rate=learning_rate)\n",
        "model.compile(optimizer=optimizer, loss='categorical_crossentropy', metrics=['accuracy'])\n",
        "\n",
        "# Performing n-fold cross-validation\n",
        "n_splits = 5\n",
        "skf = StratifiedKFold(n_splits=n_splits, shuffle=True, random_state=42)\n",
        "\n",
        "for fold, (train_index, val_index) in enumerate(skf.split(X_train, y_train.argmax(axis=1))):\n",
        "    print(f\"Fold {fold + 1}\")\n",
        "\n",
        "    X_train_fold, X_val_fold = X_train[train_index], X_train[val_index]\n",
        "    y_train_fold, y_val_fold = y_train[train_index], y_train[val_index]\n",
        "\n",
        "    # Converting labels to one-hot encoding\n",
        "    y_train_fold_onehot = tf.keras.utils.to_categorical(y_train_fold, num_classes)\n",
        "    y_val_fold_onehot = tf.keras.utils.to_categorical(y_val_fold, num_classes)\n",
        "\n",
        "    # Training the model\n",
        "    model.fit(X_train_fold, y_train_fold_onehot, batch_size=batch_size, epochs=epochs, validation_data=(X_val_fold, y_val_fold_onehot))\n",
        "\n",
        "    # Evaluating our model\n",
        "    y_val_pred = model.predict(X_val_fold)\n",
        "    y_val_pred_classes = np.argmax(y_val_pred, axis=1)\n",
        "    y_val_true_classes = np.argmax(y_val_fold_onehot, axis=1)\n",
        "\n",
        "    accuracy = accuracy_score(y_val_true_classes, y_val_pred_classes)\n",
        "    precision = precision_score(y_val_true_classes, y_val_pred_classes, average='weighted')\n",
        "    recall = recall_score(y_val_true_classes, y_val_pred_classes, average='weighted')\n",
        "    f1 = f1_score(y_val_true_classes, y_val_pred_classes, average='weighted')\n",
        "\n",
        "    print(f\"Fold {fold + 1} - Validation Accuracy: {accuracy}, Precision: {precision}, Recall: {recall}, F1-Score: {f1}\")\n",
        "    cm = confusion_matrix(y_val_true_classes, y_val_pred_classes)\n",
        "    print(f\"Confusion Matrix:\\n{cm}\\n\")\n"
      ]
    }
  ]
}